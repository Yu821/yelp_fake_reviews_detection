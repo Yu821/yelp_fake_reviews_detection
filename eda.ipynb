{
 "cells": [
  {
   "cell_type": "code",
   "execution_count": 2,
   "id": "082e7835",
   "metadata": {},
   "outputs": [],
   "source": [
    "import numpy as np\n",
    "import pandas as pd\n",
    "import seaborn as sns\n",
    "from tqdm.auto import tqdm\n",
    "\n",
    "import matplotlib.pyplot as plt\n",
    "\n",
    "import warnings\n",
    "warnings.filterwarnings('ignore')\n",
    "\n",
    "from IPython.display import display, HTML\n",
    "\n",
    "from nltk.tokenize import word_tokenize\n",
    "\n",
    "import gc\n",
    "\n",
    "# 表示用の設定を変更します\n",
    "%matplotlib inline\n",
    "pd.options.display.max_rows = 100\n",
    "pd.options.display.max_columns = 100\n",
    "pd.options.display.width = 130\n",
    "\n",
    "from IPython.core.interactiveshell import InteractiveShell\n",
    "InteractiveShell.ast_node_interactivity = \"all\"\n",
    "\n",
    "\n",
    "# matplotlib.rc('xtick', labelsize=18) \n",
    "# matplotlib.rc('ytick', labelsize=18) \n",
    "\n",
    "import matplotlib.pylab as pylab\n",
    "params = {'legend.fontsize': 20,\n",
    "          'figure.figsize': (15, 5),\n",
    "         'axes.labelsize':'x-large',\n",
    "         'axes.titlesize': 22,\n",
    "         'xtick.labelsize': 'xx-large',\n",
    "         'ytick.labelsize':18}\n",
    "pylab.rcParams.update(params)\n",
    "\n",
    "plt.rcParams[\"xtick.labelsize\"] = 20"
   ]
  },
  {
   "cell_type": "code",
   "execution_count": 2,
   "id": "6cbfd8fe",
   "metadata": {},
   "outputs": [],
   "source": [
    "from IPython.display import display_html\n",
    "from itertools import chain,cycle\n",
    "\n",
    "from IPython.display import display, HTML\n",
    "\n",
    "def display_side_by_side(*args,titles=cycle([''])):\n",
    "    html_str=''\n",
    "    for df,title in zip(args, chain(titles,cycle(['</br>'])) ):\n",
    "        html_str+='<th style=\"text-align:center\"><td style=\"vertical-align:top\">'\n",
    "        html_str+=f'<h4>{title}</h4>'\n",
    "        html_str+=df.to_html().replace('table','table style=\"display:inline\"')\n",
    "        html_str+='</td></th>'\n",
    "    display_html(html_str,raw=True)"
   ]
  },
  {
   "cell_type": "code",
   "execution_count": 3,
   "id": "c839b135",
   "metadata": {},
   "outputs": [
    {
     "data": {
      "text/html": [
       "<div>\n",
       "<style scoped>\n",
       "    .dataframe tbody tr th:only-of-type {\n",
       "        vertical-align: middle;\n",
       "    }\n",
       "\n",
       "    .dataframe tbody tr th {\n",
       "        vertical-align: top;\n",
       "    }\n",
       "\n",
       "    .dataframe thead th {\n",
       "        text-align: right;\n",
       "    }\n",
       "</style>\n",
       "<table border=\"1\" class=\"dataframe\">\n",
       "  <thead>\n",
       "    <tr style=\"text-align: right;\">\n",
       "      <th></th>\n",
       "      <th>user_id</th>\n",
       "      <th>product_id</th>\n",
       "      <th>rating</th>\n",
       "      <th>label</th>\n",
       "      <th>date</th>\n",
       "      <th>review</th>\n",
       "    </tr>\n",
       "  </thead>\n",
       "  <tbody>\n",
       "    <tr>\n",
       "      <th>0</th>\n",
       "      <td>923</td>\n",
       "      <td>0</td>\n",
       "      <td>3.0</td>\n",
       "      <td>-1</td>\n",
       "      <td>2014-12-08</td>\n",
       "      <td>The food at snack is a selection of popular Gr...</td>\n",
       "    </tr>\n",
       "    <tr>\n",
       "      <th>1</th>\n",
       "      <td>924</td>\n",
       "      <td>0</td>\n",
       "      <td>3.0</td>\n",
       "      <td>-1</td>\n",
       "      <td>2013-05-16</td>\n",
       "      <td>This little place in Soho is wonderful. I had ...</td>\n",
       "    </tr>\n",
       "  </tbody>\n",
       "</table>\n",
       "</div>"
      ],
      "text/plain": [
       "   user_id  product_id  rating  label       date                                             review\n",
       "0      923           0     3.0     -1 2014-12-08  The food at snack is a selection of popular Gr...\n",
       "1      924           0     3.0     -1 2013-05-16  This little place in Soho is wonderful. I had ..."
      ]
     },
     "execution_count": 3,
     "metadata": {},
     "output_type": "execute_result"
    }
   ],
   "source": [
    "meta = pd.read_csv(\"./dataset/metadata.txt\", delimiter=\"\\t\", names=[\"user_id\", \"product_id\", \"rating\", \"label\", \"date\"])\n",
    "review = pd.read_csv(\"./dataset/reviewContent.txt\", delimiter=\"\\t\", names=[\"user_id\", \"product_id\", \"date\", \"review\"])\n",
    "\n",
    "meta[\"date\"] = pd.DatetimeIndex(meta[\"date\"])\n",
    "review[\"date\"] = pd.DatetimeIndex(review[\"date\"])\n",
    "\n",
    "total = meta.merge(review, how=\"inner\", on=[\"user_id\", \"product_id\", \"date\"])\n",
    "\n",
    "total.head(2)"
   ]
  },
  {
   "cell_type": "code",
   "execution_count": 4,
   "id": "dd963531",
   "metadata": {},
   "outputs": [
    {
     "data": {
      "text/plain": [
       "(358957, 6)"
      ]
     },
     "execution_count": 4,
     "metadata": {},
     "output_type": "execute_result"
    }
   ],
   "source": [
    "total.shape"
   ]
  },
  {
   "cell_type": "markdown",
   "id": "2b660640",
   "metadata": {},
   "source": [
    "## Label Distribution"
   ]
  },
  {
   "cell_type": "code",
   "execution_count": 5,
   "id": "1164d1a3",
   "metadata": {},
   "outputs": [
    {
     "data": {
      "text/plain": [
       "<Figure size 360x360 with 0 Axes>"
      ]
     },
     "execution_count": 5,
     "metadata": {},
     "output_type": "execute_result"
    },
    {
     "data": {
      "text/plain": [
       "<AxesSubplot:xlabel='label', ylabel='label'>"
      ]
     },
     "execution_count": 5,
     "metadata": {},
     "output_type": "execute_result"
    },
    {
     "data": {
      "text/plain": [
       "Text(0.5, 1.0, 'Distribution of target')"
      ]
     },
     "execution_count": 5,
     "metadata": {},
     "output_type": "execute_result"
    },
    {
     "data": {
      "text/plain": [
       "([<matplotlib.axis.XTick at 0x23e00c3cb38>,\n",
       "  <matplotlib.axis.XTick at 0x23e00c3c710>],\n",
       " [Text(0, 0, 'fake'), Text(1, 0, 'real')])"
      ]
     },
     "execution_count": 5,
     "metadata": {},
     "output_type": "execute_result"
    },
    {
     "data": {
      "image/png": "[encoded data removed]",
      "text/plain": [
       "<Figure size 360x360 with 1 Axes>"
      ]
     },
     "metadata": {},
     "output_type": "display_data"
    }
   ],
   "source": [
    "plt.figure(figsize=(5,5))\n",
    "\n",
    "sns.set_theme()\n",
    "\n",
    "sns.barplot(x=\"label\", y=\"label\", data=meta, estimator=lambda x: len(x) / len(meta))\n",
    "\n",
    "plt.title(\"Distribution of target\", fontsize=22)\n",
    "\n",
    "plt.xticks([0,1], [\"fake\", \"real\"])\n",
    "plt.xlabel(\"label\", fontsize=20)\n",
    "plt.ylabel(\"Percentage\", fontsize=20)\n",
    "\n",
    "plt.tick_params(axis='both', which='major', labelsize=18)\n"
   ]
  },
  {
   "cell_type": "markdown",
   "id": "f12f8b1f",
   "metadata": {},
   "source": [
    "Unbalanced target.\n",
    "\n",
    "Need more metrics such as precision, recall, and F1 score instead of only accuracy if we model data with unbalanced distributions."
   ]
  },
  {
   "cell_type": "markdown",
   "id": "f481dd0c",
   "metadata": {},
   "source": [
    "## Number of words"
   ]
  },
  {
   "cell_type": "code",
   "execution_count": 23,
   "id": "6d719ef0",
   "metadata": {},
   "outputs": [
    {
     "data": {
      "text/html": [
       "<div>\n",
       "<style scoped>\n",
       "    .dataframe tbody tr th:only-of-type {\n",
       "        vertical-align: middle;\n",
       "    }\n",
       "\n",
       "    .dataframe tbody tr th {\n",
       "        vertical-align: top;\n",
       "    }\n",
       "\n",
       "    .dataframe thead th {\n",
       "        text-align: right;\n",
       "    }\n",
       "</style>\n",
       "<table border=\"1\" class=\"dataframe\">\n",
       "  <thead>\n",
       "    <tr style=\"text-align: right;\">\n",
       "      <th></th>\n",
       "      <th>user_id</th>\n",
       "      <th>product_id</th>\n",
       "      <th>rating</th>\n",
       "      <th>label</th>\n",
       "      <th>date</th>\n",
       "      <th>review</th>\n",
       "      <th>volatility_3</th>\n",
       "      <th>volatility_7</th>\n",
       "      <th>volatility_14</th>\n",
       "      <th>MA_gap_1month</th>\n",
       "      <th>MA_gap_2month</th>\n",
       "      <th>tokens</th>\n",
       "      <th>fp_pronouns_count</th>\n",
       "      <th>num_unique_words</th>\n",
       "      <th>num_words</th>\n",
       "    </tr>\n",
       "  </thead>\n",
       "  <tbody>\n",
       "    <tr>\n",
       "      <th>0</th>\n",
       "      <td>923</td>\n",
       "      <td>0</td>\n",
       "      <td>3.0</td>\n",
       "      <td>-1</td>\n",
       "      <td>2014-12-08</td>\n",
       "      <td>The food at snack is a selection of popular Gr...</td>\n",
       "      <td>0.57735</td>\n",
       "      <td>0.377964</td>\n",
       "      <td>0.267261</td>\n",
       "      <td>30.0</td>\n",
       "      <td>30.0</td>\n",
       "      <td>[The, food, at, snack, is, a, selection, of, p...</td>\n",
       "      <td>0</td>\n",
       "      <td>35</td>\n",
       "      <td>40</td>\n",
       "    </tr>\n",
       "  </tbody>\n",
       "</table>\n",
       "</div>"
      ],
      "text/plain": [
       "   user_id  product_id  rating  label       date                                             review  volatility_3  volatility_7  \\\n",
       "0      923           0     3.0     -1 2014-12-08  The food at snack is a selection of popular Gr...       0.57735      0.377964   \n",
       "\n",
       "   volatility_14  MA_gap_1month  MA_gap_2month                                             tokens  fp_pronouns_count  \\\n",
       "0       0.267261           30.0           30.0  [The, food, at, snack, is, a, selection, of, p...                  0   \n",
       "\n",
       "   num_unique_words  num_words  \n",
       "0                35         40  "
      ]
     },
     "execution_count": 23,
     "metadata": {},
     "output_type": "execute_result"
    }
   ],
   "source": [
    "total['num_words'] = total['review'].str.split().str.len()\n",
    "\n",
    "total.head(1)"
   ]
  },
  {
   "cell_type": "code",
   "execution_count": 301,
   "id": "148b14eb",
   "metadata": {},
   "outputs": [
    {
     "data": {
      "text/plain": [
       "<AxesSubplot:xlabel='num_words', ylabel='Density'>"
      ]
     },
     "execution_count": 301,
     "metadata": {},
     "output_type": "execute_result"
    },
    {
     "data": {
      "text/plain": [
       "<AxesSubplot:xlabel='num_words', ylabel='Density'>"
      ]
     },
     "execution_count": 301,
     "metadata": {},
     "output_type": "execute_result"
    },
    {
     "data": {
      "text/plain": [
       "Text(0.5, 1.0, 'Distribution of numer of words (< 1000) in real and fake reviews')"
      ]
     },
     "execution_count": 301,
     "metadata": {},
     "output_type": "execute_result"
    },
    {
     "data": {
      "text/plain": [
       "<matplotlib.legend.Legend at 0x1d48b29ea20>"
      ]
     },
     "execution_count": 301,
     "metadata": {},
     "output_type": "execute_result"
    },
    {
     "data": {
      "text/plain": [
       "Text(0.5, 0, 'Density')"
      ]
     },
     "execution_count": 301,
     "metadata": {},
     "output_type": "execute_result"
    },
    {
     "data": {
      "text/plain": [
       "Text(0, 0.5, 'Numer of words')"
      ]
     },
     "execution_count": 301,
     "metadata": {},
     "output_type": "execute_result"
    },
    {
     "data": {
      "image/png": "[encoded data removed]",
      "text/plain": [
       "<Figure size 1080x576 with 1 Axes>"
      ]
     },
     "metadata": {},
     "output_type": "display_data"
    }
   ],
   "source": [
    "fig, ax = plt.subplots(1, 1, figsize=(15,8))\n",
    "\n",
    "sns.set_theme()\n",
    "\n",
    "total_real = total[total[\"label\"]==1]\n",
    "total_fake = total[total[\"label\"]==-1]\n",
    "\n",
    "sns.distplot(total_real[total_real[\"num_words\"] < 1000][\"num_words\"], label=\"real review\", color='#4c72b0')\n",
    "sns.distplot(total_fake[total_fake[\"num_words\"] < 1000][\"num_words\"], label=\"fake review\", color='#c44e52')\n",
    "\n",
    "# sns.displot(data=total[total[\"num_words\"] < 1000], x=\"num_words\", hue=\"label\", kind=\"kde\", legend=True, ax=ax)\n",
    "\n",
    "# sns.displot(x=\"num_words\", data=total[total[\"label\"]==1])\n",
    "# sns.displot(x=\"num_words\", data=total[total[\"label\"]==-1])\n",
    "\n",
    "plt.title(\"Distribution of numer of words (< 1000) in real and fake reviews\", fontsize=22)\n",
    "\n",
    "plt.legend(fontsize=20)\n",
    "\n",
    "plt.tick_params(axis='both', which='major', labelsize=18)\n",
    "\n",
    "plt.xlabel(\"Density\", fontsize=20)\n",
    "plt.ylabel(\"Numer of words\", fontsize=20)\n"
   ]
  },
  {
   "cell_type": "markdown",
   "id": "185a813b",
   "metadata": {},
   "source": [
    "Two distiburtions look different. Is this noise?\n",
    "\n",
    "Use Kolmogorov-Smirnov test (KS-Test)\n",
    "\n",
    "Asumptions\n",
    "1. The null hypothesis is both samples are randomly drawn from the same (pooled) set of values.\n",
    "Satisfied.\n",
    "2. The two samples are mutually independent.\n",
    "Satisfied.\n",
    "3. The scale of measurement is at least ordinal.\n",
    "Satisfied.\n",
    "4. The test is only exact for continuous variables. It is conservative for discrete variables.\n",
    "Satisfied.\n",
    "\n",
    "Null hypothesis: 2 independent samples are drawn from the same continuous distribution.\n",
    "Alternative hypothesis: Null is not true."
   ]
  },
  {
   "cell_type": "code",
   "execution_count": 6,
   "id": "4ed6a64b",
   "metadata": {},
   "outputs": [
    {
     "data": {
      "text/plain": [
       "KstestResult(statistic=0.19956392672164958, pvalue=0.0)"
      ]
     },
     "execution_count": 6,
     "metadata": {},
     "output_type": "execute_result"
    }
   ],
   "source": [
    "from scipy.stats import ks_2samp\n",
    "\n",
    "ks_2samp(total_real[\"num_words\"].values, total_fake[\"num_words\"].values, alternative='two-sided')"
   ]
  },
  {
   "cell_type": "markdown",
   "id": "3825d5c4",
   "metadata": {},
   "source": [
    "pvalue = 0.0. Reject null hypothesis. We can say that two distributions doesn't come from the same distribution.\n",
    "Number of words is worth adding to our features."
   ]
  },
  {
   "cell_type": "markdown",
   "id": "636556da",
   "metadata": {},
   "source": [
    "## Are fake users more likely to post only rating=1.0 and rating =5.0 reviews?"
   ]
  },
  {
   "cell_type": "code",
   "execution_count": 290,
   "id": "a485ccfe",
   "metadata": {},
   "outputs": [
    {
     "data": {
      "text/plain": [
       "<Figure size 576x360 with 0 Axes>"
      ]
     },
     "execution_count": 290,
     "metadata": {},
     "output_type": "execute_result"
    },
    {
     "data": {
      "text/plain": [
       "<AxesSubplot:xlabel='label', ylabel='label'>"
      ]
     },
     "execution_count": 290,
     "metadata": {},
     "output_type": "execute_result"
    },
    {
     "data": {
      "text/plain": [
       "([<matplotlib.axis.XTick at 0x1d4c8c17d30>,\n",
       "  <matplotlib.axis.XTick at 0x1d4c8c17908>],\n",
       " [Text(0, 0, 'fake'), Text(1, 0, 'real')])"
      ]
     },
     "execution_count": 290,
     "metadata": {},
     "output_type": "execute_result"
    },
    {
     "data": {
      "text/plain": [
       "Text(0.5, 0, 'label')"
      ]
     },
     "execution_count": 290,
     "metadata": {},
     "output_type": "execute_result"
    },
    {
     "data": {
      "text/plain": [
       "Text(0, 0.5, 'Percentage')"
      ]
     },
     "execution_count": 290,
     "metadata": {},
     "output_type": "execute_result"
    },
    {
     "data": {
      "image/png": "[encoded data removed]",
      "text/plain": [
       "<Figure size 576x360 with 1 Axes>"
      ]
     },
     "metadata": {},
     "output_type": "display_data"
    }
   ],
   "source": [
    "plt.figure(figsize=(8,5))\n",
    "\n",
    "sns.barplot(x=\"label\", y=\"label\", hue=\"rating\", data=meta, estimator=lambda x: len(x) / len(meta))\n",
    "\n",
    "plt.xticks([0,1], [\"fake\", \"real\"])\n",
    "plt.xlabel(\"label\", fontsize=17)\n",
    "plt.ylabel(\"Percentage\", fontsize=17)\n",
    "\n",
    "plt.tick_params(axis='both', which='major', labelsize=15)"
   ]
  },
  {
   "cell_type": "markdown",
   "id": "0853fa0d",
   "metadata": {},
   "source": [
    "Fake users is slightly more likely to post rating=1 or rating=5 reviews. It is pretty natural because fake users post fake reviews to write very bad reviews for rival companies and very good reviews for their own companies.\n",
    "\n",
    "Is this noise?\n",
    "\n",
    "Conduct chis-squared independece test.\n",
    "\n",
    "Major assumptions (https://www.ncbi.nlm.nih.gov/pmc/articles/PMC3900058/)\n",
    "1. The levels (or categories) of the variables are mutually exclusive.\n",
    "Satisfied.\n",
    "2. The study groups must be independent.\n",
    "Satisfied.\n",
    "3. There are 2 variables, and both are measured as categories, usually at the nominal level. However, data may be ordinal data. \n",
    "Satified.\n",
    "\n",
    "Ho:  No relationship exists on the categorical variables  Ha: Ho is not true."
   ]
  },
  {
   "cell_type": "code",
   "execution_count": 51,
   "id": "c98999e8",
   "metadata": {},
   "outputs": [
    {
     "name": "stdout",
     "output_type": "stream",
     "text": [
      "Tables:  [[17006, 10748, 3566, 3173, 2392], [124502, 124151, 44473, 18383, 10658]] \n",
      "\n",
      "p-value 0.0\n"
     ]
    }
   ],
   "source": [
    "from scipy.stats import chi2_contingency\n",
    "\n",
    "fake_rating = meta[meta[\"label\"]==-1][\"rating\"]\n",
    "real_rating = meta[meta[\"label\"]==1][\"rating\"]\n",
    "\n",
    "obs = list()\n",
    "obs.append(fake_rating.value_counts().tolist()); obs.append(real_rating.value_counts().tolist())\n",
    "\n",
    "print(\"Tables: \", obs, \"\\n\")\n",
    "\n",
    "chi2, p, dof, ex = chi2_contingency(obs)\n",
    "\n",
    "print(\"p-value\", p)"
   ]
  },
  {
   "cell_type": "markdown",
   "id": "5a188e0e",
   "metadata": {},
   "source": [
    "p-value is 0. Reject Ho. There is some relationship between variables.\n",
    "\n",
    "Fake accounts are more likely to post rating=1 and rating=5 possibly because they write bad reviews for rival companies and good reviews for their own companies."
   ]
  },
  {
   "cell_type": "markdown",
   "id": "a500a4b6",
   "metadata": {},
   "source": [
    "## Rating deviation"
   ]
  },
  {
   "cell_type": "markdown",
   "id": "e05a82f2",
   "metadata": {},
   "source": [
    "If there are many bad reviews\n",
    " → Desire to make fake reviews with good rating\n",
    "\n",
    "If there are many good reviews already \n",
    "→ No need to make fake review with good rating\n",
    "\n",
    "Rating deviation = deviation from mean rating of that product"
   ]
  },
  {
   "cell_type": "code",
   "execution_count": 273,
   "id": "80e26654",
   "metadata": {},
   "outputs": [
    {
     "name": "stdout",
     "output_type": "stream",
     "text": [
      "NA percentage:  0.0\n"
     ]
    }
   ],
   "source": [
    "total[\"mean_rating\"] = total.groupby(\"product_id\", as_index=False)[[\"rating\"]].transform(\"mean\")\n",
    "total[\"rating_deviation\"] = (total[\"rating\"] - total[\"mean_rating\"]) / total[\"mean_rating\"]\n",
    "\n",
    "total.drop([\"mean_rating\"], axis=1, inplace=True)\n",
    "\n",
    "print(\"NA percentage: \", total[\"rating_deviation\"].isna().sum().sum() / total[\"rating_deviation\"].shape[0])"
   ]
  },
  {
   "cell_type": "code",
   "execution_count": 293,
   "id": "27f57177",
   "metadata": {},
   "outputs": [
    {
     "data": {
      "text/plain": [
       "<AxesSubplot:xlabel='rating_deviation', ylabel='Density'>"
      ]
     },
     "execution_count": 293,
     "metadata": {},
     "output_type": "execute_result"
    },
    {
     "data": {
      "text/plain": [
       "<AxesSubplot:xlabel='rating_deviation', ylabel='Density'>"
      ]
     },
     "execution_count": 293,
     "metadata": {},
     "output_type": "execute_result"
    },
    {
     "data": {
      "text/plain": [
       "Text(0.5, 0, 'Rating deviation')"
      ]
     },
     "execution_count": 293,
     "metadata": {},
     "output_type": "execute_result"
    },
    {
     "data": {
      "text/plain": [
       "Text(0, 0.5, 'Density')"
      ]
     },
     "execution_count": 293,
     "metadata": {},
     "output_type": "execute_result"
    },
    {
     "data": {
      "text/plain": [
       "Text(0.5, 1.0, 'Distribution of rating deviation in real and fake reviews')"
      ]
     },
     "execution_count": 293,
     "metadata": {},
     "output_type": "execute_result"
    },
    {
     "data": {
      "text/plain": [
       "<matplotlib.legend.Legend at 0x1d4895f5da0>"
      ]
     },
     "execution_count": 293,
     "metadata": {},
     "output_type": "execute_result"
    },
    {
     "data": {
      "image/png": "[encoded data removed]",
      "text/plain": [
       "<Figure size 1008x432 with 1 Axes>"
      ]
     },
     "metadata": {},
     "output_type": "display_data"
    }
   ],
   "source": [
    "fig, ax = plt.subplots(1, 1, figsize=(14,6))\n",
    "\n",
    "sns.set_theme()\n",
    "\n",
    "total_real = total[total[\"label\"]==1]\n",
    "total_fake = total[total[\"label\"]==-1]\n",
    "\n",
    "sns.distplot(total_real[\"rating_deviation\"], label=\"real\", color='#4c72b0')\n",
    "sns.distplot(total_fake[\"rating_deviation\"], label=\"fake\", color='#c44e52')\n",
    "\n",
    "plt.xlabel(\"Rating deviation\", fontsize=20)\n",
    "plt.ylabel(\"Density\", fontsize=20)\n",
    "\n",
    "plt.title(\"Distribution of rating deviation in real and fake reviews\", fontsize=22)\n",
    "\n",
    "plt.tick_params(axis='both', which='major', labelsize=18)\n",
    "\n",
    "plt.legend(fontsize=20)\n"
   ]
  },
  {
   "cell_type": "markdown",
   "id": "e3031c2d",
   "metadata": {},
   "source": [
    "We notice that fake reviews tend to have higher rating devitations while real reviews tend to have lower rating deviation especially from -0.25 to 0.00."
   ]
  },
  {
   "cell_type": "markdown",
   "id": "9574a573",
   "metadata": {},
   "source": [
    "## Number of reviews per product"
   ]
  },
  {
   "cell_type": "markdown",
   "id": "4542ca31",
   "metadata": {},
   "source": [
    "People want fake reviews because they have a fewer number of reviews meaning that their review has uncertainty?"
   ]
  },
  {
   "cell_type": "code",
   "execution_count": 21,
   "id": "12197c3e",
   "metadata": {},
   "outputs": [
    {
     "name": "stdout",
     "output_type": "stream",
     "text": [
      "Mean count of reviews per product that contains REAL review 349.0433369447454 reviews\n",
      "Mean count of reviews per product that contains FAKE review 40.35557986870897 reviews\n"
     ]
    }
   ],
   "source": [
    "from statistics import mean\n",
    "\n",
    "real_count = meta[meta[\"label\"]==1].groupby(\"product_id\")[\"rating\"].count()\n",
    "fake_count = meta[meta[\"label\"]==-1].groupby(\"product_id\")[\"rating\"].count()\n",
    "# mix_count = meta[(meta[\"label\"]==1) & (meta[meta[\"label\"]==-1])].groupby(\"product_id\")[\"rating\"].count()\n",
    "\n",
    "print(\"Mean count of reviews per product that contains REAL review\", mean(real_count), \"reviews\")\n",
    "print(\"Mean count of reviews per product that contains FAKE review\", mean(fake_count), \"reviews\")\n",
    "# print(\"Mean count of reviews per product that contains FAKE review\", mean(mix_count))\n"
   ]
  },
  {
   "cell_type": "code",
   "execution_count": 18,
   "id": "e56e8415",
   "metadata": {},
   "outputs": [
    {
     "data": {
      "text/plain": [
       "MannwhitneyuResult(statistic=69495.5, pvalue=3.1764589759624608e-211)"
      ]
     },
     "execution_count": 18,
     "metadata": {},
     "output_type": "execute_result"
    }
   ],
   "source": [
    "from scipy.stats import mannwhitneyu\n",
    "\n",
    "mannwhitneyu(real_count, fake_count)"
   ]
  },
  {
   "cell_type": "markdown",
   "id": "6eb43870",
   "metadata": {},
   "source": [
    "P-value = 0. There is difference between mean count values of the product that contains either fake or real reviews."
   ]
  },
  {
   "cell_type": "markdown",
   "id": "69e83888",
   "metadata": {},
   "source": [
    "## Volatility (Burst) features"
   ]
  },
  {
   "cell_type": "markdown",
   "id": "3358d5c2",
   "metadata": {},
   "source": [
    "Volatility - liability to change rapidly\n",
    "\n",
    "It is suspicious if one restaurant gets two reviews on average in one day, but suddenly started to get twenty reviews in three days."
   ]
  },
  {
   "cell_type": "code",
   "execution_count": 4,
   "id": "d7afc102",
   "metadata": {},
   "outputs": [],
   "source": [
    "# def make_volatility(df, product_id):\n",
    "#     prod = df[df[\"product_id\"] == product_id]\n",
    "    \n",
    "#     prod[\"count\"] = 1\n",
    "\n",
    "#     date_count = prod.groupby(\"date\", as_index=False)[\"count\"].count().sort_values(by=\"date\")\n",
    "#     date_count[\"volatility_30\"] =  date_count[\"count\"].diff().rolling(30).std()\n",
    "\n",
    "#     prod = prod.merge(date_count[[\"date\", \"volatility_30\"]], on=\"date\")\n",
    "\n",
    "#     return prod\n",
    "\n",
    "# Volatility of how many ratings posted in specific product by days\n",
    "def make_volatility(df, product_id):\n",
    "    prod = df[df[\"product_id\"] == product_id]\n",
    "    \n",
    "    prod[\"count\"] = 1\n",
    "\n",
    "    date_count = prod.groupby(\"date\", as_index=False)[\"count\"].count().sort_values(by=\"date\")\n",
    "    \n",
    "    # Resample to have all dates Ex: \"2015-01-01\" and \"2015-05-01\" to \"2015-01-01\" , \"2015-01-01\" \n",
    "    date_count.set_index(\"date\", drop=True, inplace=True)\n",
    "    date_count = date_count.resample('D', convention='start').asfreq()\n",
    "    date_count.fillna(0, inplace=True)\n",
    "    date_count.reset_index(inplace=True)\n",
    "    \n",
    "    # One week volatility\n",
    "    date_count[\"volatility_7\"] =  date_count[\"count\"].diff().rolling(7).std()\n",
    "\n",
    "    # Two weeks volatility\n",
    "    date_count[\"volatility_14\"] =  date_count[\"count\"].diff().rolling(14).std()\n",
    "\n",
    "    # Three days volatility\n",
    "    date_count[\"volatility_3\"] =  date_count[\"count\"].diff().rolling(3).std()\n",
    "    \n",
    "    # Mean average gap (1 month)\n",
    "    date_count[\"MA_gap_1month\"] = date_count[\"count\"] / (date_count[\"count\"].rolling(30).mean())\n",
    "\n",
    "    # Mean average gap (1 month)\n",
    "    date_count[\"MA_gap_2month\"] = date_count[\"count\"] / (date_count[\"count\"].rolling(30).mean())\n",
    "    \n",
    "    merge_lst = [\"date\", \"volatility_3\", \"volatility_7\", \"volatility_14\", \"MA_gap_1month\", \"MA_gap_2month\"]\n",
    "\n",
    "    prod = prod.merge(date_count[merge_lst], on=\"date\")\n",
    "    \n",
    "    prod.drop(\"count\", axis=1, inplace=True)\n",
    "\n",
    "    return prod\n"
   ]
  },
  {
   "cell_type": "code",
   "execution_count": 5,
   "id": "7ece4ee5",
   "metadata": {},
   "outputs": [
    {
     "data": {
      "application/vnd.jupyter.widget-view+json": {
       "model_id": "fee346dbb0dc4ef1b11190ffa7cc28b6",
       "version_major": 2,
       "version_minor": 0
      },
      "text/plain": [
       "  0%|          | 0/923 [00:00<?, ?it/s]"
      ]
     },
     "metadata": {},
     "output_type": "display_data"
    },
    {
     "data": {
      "text/html": [
       "<div>\n",
       "<style scoped>\n",
       "    .dataframe tbody tr th:only-of-type {\n",
       "        vertical-align: middle;\n",
       "    }\n",
       "\n",
       "    .dataframe tbody tr th {\n",
       "        vertical-align: top;\n",
       "    }\n",
       "\n",
       "    .dataframe thead th {\n",
       "        text-align: right;\n",
       "    }\n",
       "</style>\n",
       "<table border=\"1\" class=\"dataframe\">\n",
       "  <thead>\n",
       "    <tr style=\"text-align: right;\">\n",
       "      <th></th>\n",
       "      <th>user_id</th>\n",
       "      <th>product_id</th>\n",
       "      <th>rating</th>\n",
       "      <th>label</th>\n",
       "      <th>date</th>\n",
       "      <th>review</th>\n",
       "      <th>volatility_3</th>\n",
       "      <th>volatility_7</th>\n",
       "      <th>volatility_14</th>\n",
       "      <th>MA_gap_1month</th>\n",
       "      <th>MA_gap_2month</th>\n",
       "    </tr>\n",
       "  </thead>\n",
       "  <tbody>\n",
       "    <tr>\n",
       "      <th>0</th>\n",
       "      <td>923</td>\n",
       "      <td>0</td>\n",
       "      <td>3.0</td>\n",
       "      <td>-1</td>\n",
       "      <td>2014-12-08</td>\n",
       "      <td>The food at snack is a selection of popular Gr...</td>\n",
       "      <td>0.57735</td>\n",
       "      <td>0.377964</td>\n",
       "      <td>0.267261</td>\n",
       "      <td>30.0</td>\n",
       "      <td>30.0</td>\n",
       "    </tr>\n",
       "    <tr>\n",
       "      <th>1</th>\n",
       "      <td>924</td>\n",
       "      <td>0</td>\n",
       "      <td>3.0</td>\n",
       "      <td>-1</td>\n",
       "      <td>2013-05-16</td>\n",
       "      <td>This little place in Soho is wonderful. I had ...</td>\n",
       "      <td>0.57735</td>\n",
       "      <td>0.377964</td>\n",
       "      <td>0.267261</td>\n",
       "      <td>15.0</td>\n",
       "      <td>15.0</td>\n",
       "    </tr>\n",
       "    <tr>\n",
       "      <th>2</th>\n",
       "      <td>925</td>\n",
       "      <td>0</td>\n",
       "      <td>4.0</td>\n",
       "      <td>-1</td>\n",
       "      <td>2013-07-01</td>\n",
       "      <td>ordered lunch for 15 from Snack last Friday.  ...</td>\n",
       "      <td>0.57735</td>\n",
       "      <td>0.377964</td>\n",
       "      <td>0.474631</td>\n",
       "      <td>15.0</td>\n",
       "      <td>15.0</td>\n",
       "    </tr>\n",
       "  </tbody>\n",
       "</table>\n",
       "</div>"
      ],
      "text/plain": [
       "   user_id  product_id  rating  label       date                                             review  volatility_3  volatility_7  \\\n",
       "0      923           0     3.0     -1 2014-12-08  The food at snack is a selection of popular Gr...       0.57735      0.377964   \n",
       "1      924           0     3.0     -1 2013-05-16  This little place in Soho is wonderful. I had ...       0.57735      0.377964   \n",
       "2      925           0     4.0     -1 2013-07-01  ordered lunch for 15 from Snack last Friday.  ...       0.57735      0.377964   \n",
       "\n",
       "   volatility_14  MA_gap_1month  MA_gap_2month  \n",
       "0       0.267261           30.0           30.0  \n",
       "1       0.267261           15.0           15.0  \n",
       "2       0.474631           15.0           15.0  "
      ]
     },
     "execution_count": 5,
     "metadata": {},
     "output_type": "execute_result"
    }
   ],
   "source": [
    "temp = []\n",
    "\n",
    "for product_id in tqdm(meta[\"product_id\"].unique()):\n",
    "    temp.append(make_volatility(total, product_id))\n",
    "\n",
    "total = pd.concat(temp)\n",
    "\n",
    "total.head(3)"
   ]
  },
  {
   "cell_type": "code",
   "execution_count": 116,
   "id": "fe14e0ce",
   "metadata": {},
   "outputs": [
    {
     "data": {
      "text/plain": [
       "1.2155204158096813"
      ]
     },
     "execution_count": 116,
     "metadata": {},
     "output_type": "execute_result"
    },
    {
     "data": {
      "text/plain": [
       "1.2847783964049084"
      ]
     },
     "execution_count": 116,
     "metadata": {},
     "output_type": "execute_result"
    },
    {
     "data": {
      "text/plain": [
       "1.1147862019051715"
      ]
     },
     "execution_count": 116,
     "metadata": {},
     "output_type": "execute_result"
    },
    {
     "data": {
      "text/plain": [
       "1.1711412132920114"
      ]
     },
     "execution_count": 116,
     "metadata": {},
     "output_type": "execute_result"
    }
   ],
   "source": [
    "total[total[\"label\"]==1][\"volatility_3\"].mean()\n",
    "total[total[\"label\"]==-1][\"volatility_3\"].mean()\n",
    "\n",
    "total[total[\"label\"]==1][\"volatility_7\"].mean()\n",
    "total[total[\"label\"]==-1][\"volatility_7\"].mean()"
   ]
  },
  {
   "cell_type": "markdown",
   "id": "533b4ed4",
   "metadata": {},
   "source": [
    "Are they same? Check with mann whiteyu test. (Normality is not satisfied so we don't use two samples t-test)."
   ]
  },
  {
   "cell_type": "code",
   "execution_count": 7,
   "id": "d112a208",
   "metadata": {},
   "outputs": [
    {
     "data": {
      "text/plain": [
       "MannwhitneyuResult(statistic=5746094269.0, pvalue=3.0351517983362653e-24)"
      ]
     },
     "execution_count": 7,
     "metadata": {},
     "output_type": "execute_result"
    },
    {
     "data": {
      "text/plain": [
       "MannwhitneyuResult(statistic=5752520494.0, pvalue=9.250712837344402e-23)"
      ]
     },
     "execution_count": 7,
     "metadata": {},
     "output_type": "execute_result"
    },
    {
     "data": {
      "text/plain": [
       "MannwhitneyuResult(statistic=5770372715.0, pvalue=6.721205649258438e-19)"
      ]
     },
     "execution_count": 7,
     "metadata": {},
     "output_type": "execute_result"
    }
   ],
   "source": [
    "from scipy.stats import mannwhitneyu\n",
    "\n",
    "mannwhitneyu(total[total[\"label\"]==1][\"volatility_14\"].values, total[total[\"label\"]==-1][\"volatility_14\"].values)\n",
    "mannwhitneyu(total[total[\"label\"]==1][\"volatility_7\"].values, total[total[\"label\"]==-1][\"volatility_7\"].values)\n",
    "mannwhitneyu(total[total[\"label\"]==1][\"volatility_3\"].values, total[total[\"label\"]==-1][\"volatility_3\"].values)"
   ]
  },
  {
   "cell_type": "markdown",
   "id": "0885b870",
   "metadata": {},
   "source": [
    "p-value = 0. There is difference between mean values of volatility of counts.\n",
    "\n",
    "Fake review has more volatility of count for every single windows\n",
    "= Gets more number of reviews suddenly within some (window) days\n"
   ]
  },
  {
   "cell_type": "markdown",
   "id": "e0dbd9d7",
   "metadata": {},
   "source": [
    "## Ratio of fraud ratings per product"
   ]
  },
  {
   "cell_type": "code",
   "execution_count": 52,
   "id": "da6a50a6",
   "metadata": {},
   "outputs": [
    {
     "data": {
      "text/html": [
       "<div>\n",
       "<style scoped>\n",
       "    .dataframe tbody tr th:only-of-type {\n",
       "        vertical-align: middle;\n",
       "    }\n",
       "\n",
       "    .dataframe tbody tr th {\n",
       "        vertical-align: top;\n",
       "    }\n",
       "\n",
       "    .dataframe thead th {\n",
       "        text-align: right;\n",
       "    }\n",
       "</style>\n",
       "<table border=\"1\" class=\"dataframe\">\n",
       "  <thead>\n",
       "    <tr style=\"text-align: right;\">\n",
       "      <th></th>\n",
       "      <th>product_id</th>\n",
       "      <th>product_name</th>\n",
       "      <th>label</th>\n",
       "    </tr>\n",
       "  </thead>\n",
       "  <tbody>\n",
       "    <tr>\n",
       "      <th>571</th>\n",
       "      <td>571</td>\n",
       "      <td>The Wheelhouse Brooklyn</td>\n",
       "      <td>0.654545</td>\n",
       "    </tr>\n",
       "    <tr>\n",
       "      <th>340</th>\n",
       "      <td>340</td>\n",
       "      <td>Anthony and Son Panini Shoppe</td>\n",
       "      <td>0.346939</td>\n",
       "    </tr>\n",
       "    <tr>\n",
       "      <th>430</th>\n",
       "      <td>430</td>\n",
       "      <td>Take Root</td>\n",
       "      <td>0.320000</td>\n",
       "    </tr>\n",
       "    <tr>\n",
       "      <th>148</th>\n",
       "      <td>148</td>\n",
       "      <td>Chopping Block</td>\n",
       "      <td>0.301887</td>\n",
       "    </tr>\n",
       "    <tr>\n",
       "      <th>303</th>\n",
       "      <td>303</td>\n",
       "      <td>The Gorbals</td>\n",
       "      <td>0.290323</td>\n",
       "    </tr>\n",
       "  </tbody>\n",
       "</table>\n",
       "</div>"
      ],
      "text/plain": [
       "     product_id                   product_name     label\n",
       "571         571        The Wheelhouse Brooklyn  0.654545\n",
       "340         340  Anthony and Son Panini Shoppe  0.346939\n",
       "430         430                      Take Root  0.320000\n",
       "148         148                 Chopping Block  0.301887\n",
       "303         303                    The Gorbals  0.290323"
      ]
     },
     "execution_count": 52,
     "metadata": {},
     "output_type": "execute_result"
    }
   ],
   "source": [
    "df = meta.copy()\n",
    "\n",
    "product = pd.read_csv(\"./dataset/productIdMapping.txt\", delimiter=\"\\t\", names=[\"product_name\", \"product_id\"])\n",
    "\n",
    "df = df.merge(product, how=\"left\", on=[\"product_id\"])\n",
    "\n",
    "df.loc[df[df[\"label\"]==1].index, \"label\"] = 0\n",
    "df.loc[df[df[\"label\"]==-1].index, \"label\"] = 1\n",
    "\n",
    "df.groupby([\"product_id\", \"product_name\"], as_index=False)[\"label\"].mean().sort_values(by=\"label\", ascending=False).head(5)\n",
    "\n",
    "del df; gc.collect()"
   ]
  },
  {
   "cell_type": "markdown",
   "id": "504ee1e4",
   "metadata": {},
   "source": [
    "It's hard to determine which prodct gets more fake reviews."
   ]
  },
  {
   "cell_type": "markdown",
   "id": "d613213b",
   "metadata": {},
   "source": [
    "## Does fake accounts post many reviews compared to real accounts?"
   ]
  },
  {
   "cell_type": "markdown",
   "id": "020375ea",
   "metadata": {},
   "source": [
    "Calculate reviews / accounts per fake and real accounts"
   ]
  },
  {
   "cell_type": "code",
   "execution_count": 119,
   "id": "89e5f5f6",
   "metadata": {},
   "outputs": [
    {
     "name": "stdout",
     "output_type": "stream",
     "text": [
      "How many reviews posted per real account:  2.433542821748523 reviews\n",
      "How many reviews posted per fake account:  1.294392195395845 reviews\n"
     ]
    },
    {
     "data": {
      "text/plain": [
       "322167"
      ]
     },
     "execution_count": 119,
     "metadata": {},
     "output_type": "execute_result"
    },
    {
     "data": {
      "text/plain": [
       "36885"
      ]
     },
     "execution_count": 119,
     "metadata": {},
     "output_type": "execute_result"
    }
   ],
   "source": [
    "num_rates_per_real = meta[meta[\"label\"]==1].shape[0] / meta[meta[\"label\"]==1][\"user_id\"].nunique()\n",
    "num_rates_per_fake = meta[meta[\"label\"]==-1].shape[0] / meta[meta[\"label\"]==-1][\"user_id\"].nunique()\n",
    "\n",
    "print(\"How many reviews posted per real account: \", num_rates_per_real, \"reviews\")\n",
    "print(\"How many reviews posted per fake account: \", num_rates_per_fake, \"reviews\")\n",
    "\n",
    "meta[meta[\"label\"]==1].shape[0]\n",
    "meta[meta[\"label\"]==-1].shape[0]"
   ]
  },
  {
   "cell_type": "raw",
   "id": "7e38066d",
   "metadata": {},
   "source": [
    "Fake accounts post less reviews."
   ]
  },
  {
   "cell_type": "markdown",
   "id": "7a2073c3",
   "metadata": {},
   "source": [
    "Very clear difference that we don't even need to conduct statistical test.\n",
    "\n",
    "Count encoding may be good predictor."
   ]
  },
  {
   "cell_type": "markdown",
   "id": "4cd5b42c",
   "metadata": {},
   "source": [
    "## Number of reviews posted by fake accounts in one day"
   ]
  },
  {
   "cell_type": "code",
   "execution_count": 15,
   "id": "132b9788",
   "metadata": {},
   "outputs": [
    {
     "data": {
      "text/plain": [
       "1.1104588150289016"
      ]
     },
     "execution_count": 15,
     "metadata": {},
     "output_type": "execute_result"
    },
    {
     "data": {
      "text/plain": [
       "1.1484635676600599"
      ]
     },
     "execution_count": 15,
     "metadata": {},
     "output_type": "execute_result"
    }
   ],
   "source": [
    "from statistics import mean\n",
    "\n",
    "fake_count = meta[meta[\"label\"]==-1].groupby([\"date\", \"user_id\"], as_index=False)[\"label\"].count()\n",
    "real_count = meta[meta[\"label\"]==1].groupby([\"date\", \"user_id\"], as_index=False)[\"label\"].count()\n",
    "\n",
    "mean(fake_count[\"label\"])\n",
    "mean(real_count[\"label\"])"
   ]
  },
  {
   "cell_type": "markdown",
   "id": "e947d73f",
   "metadata": {},
   "source": [
    "It's about same."
   ]
  },
  {
   "cell_type": "markdown",
   "id": "3b16fe9e",
   "metadata": {},
   "source": [
    "## Does fake users do only fake reviews or mix of fake and real reviews?"
   ]
  },
  {
   "cell_type": "code",
   "execution_count": null,
   "id": "9ff96300",
   "metadata": {},
   "outputs": [],
   "source": [
    "user_label = meta.groupby([\"user_id\", \"label\"], as_index=False)[\"date\"].count()\n",
    "\n",
    "ratio = user_label[\"user_id\"].duplicated().sum() / user_label[\"user_id\"].nunique()\n",
    "ratio = ratio*100\n",
    "\n",
    "print(\"Percentahttp://localhost:8888/notebooks/1kaggle/yelp/eda_model.ipynb#ge of users who post both fake and real reviews are\", ratio, \"%\")"
   ]
  },
  {
   "cell_type": "markdown",
   "id": "b8106312",
   "metadata": {},
   "source": [
    "99.59 % of users post either only fake reviews or real reviews but not both.\n",
    "\n",
    "User_id is the strong predictor. It may be worth to create target mean encoding per user."
   ]
  },
  {
   "cell_type": "markdown",
   "id": "9bbd1544",
   "metadata": {},
   "source": [
    "## Subjectivity and objectivity of review"
   ]
  },
  {
   "cell_type": "markdown",
   "id": "c08ebc8b",
   "metadata": {},
   "source": [
    "1. Check percentage of first person pronoun (Ex: I, my, me, mine)\n",
    "\n",
    "2. Sentiment score (more emotional or not)\n",
    "Refer to:\n",
    "https://t-redactyl.io/blog/2017/04/using-vader-to-handle-sentiment-analysis-with-social-media-text.html"
   ]
  },
  {
   "cell_type": "code",
   "execution_count": 8,
   "id": "dee1969f",
   "metadata": {},
   "outputs": [
    {
     "ename": "KeyError",
     "evalue": "'num_words'",
     "output_type": "error",
     "traceback": [
      "\u001b[1;31m---------------------------------------------------------------------------\u001b[0m",
      "\u001b[1;31mKeyError\u001b[0m                                  Traceback (most recent call last)",
      "\u001b[1;32m~\\Anaconda3\\lib\\site-packages\\pandas\\core\\indexes\\base.py\u001b[0m in \u001b[0;36mget_loc\u001b[1;34m(self, key, method, tolerance)\u001b[0m\n\u001b[0;32m   3079\u001b[0m             \u001b[1;32mtry\u001b[0m\u001b[1;33m:\u001b[0m\u001b[1;33m\u001b[0m\u001b[0m\n\u001b[1;32m-> 3080\u001b[1;33m                 \u001b[1;32mreturn\u001b[0m \u001b[0mself\u001b[0m\u001b[1;33m.\u001b[0m\u001b[0m_engine\u001b[0m\u001b[1;33m.\u001b[0m\u001b[0mget_loc\u001b[0m\u001b[1;33m(\u001b[0m\u001b[0mcasted_key\u001b[0m\u001b[1;33m)\u001b[0m\u001b[1;33m\u001b[0m\u001b[0m\n\u001b[0m\u001b[0;32m   3081\u001b[0m             \u001b[1;32mexcept\u001b[0m \u001b[0mKeyError\u001b[0m \u001b[1;32mas\u001b[0m \u001b[0merr\u001b[0m\u001b[1;33m:\u001b[0m\u001b[1;33m\u001b[0m\u001b[0m\n",
      "\u001b[1;32mpandas\\_libs\\index.pyx\u001b[0m in \u001b[0;36mpandas._libs.index.IndexEngine.get_loc\u001b[1;34m()\u001b[0m\n",
      "\u001b[1;32mpandas\\_libs\\index.pyx\u001b[0m in \u001b[0;36mpandas._libs.index.IndexEngine.get_loc\u001b[1;34m()\u001b[0m\n",
      "\u001b[1;32mpandas\\_libs\\hashtable_class_helper.pxi\u001b[0m in \u001b[0;36mpandas._libs.hashtable.PyObjectHashTable.get_item\u001b[1;34m()\u001b[0m\n",
      "\u001b[1;32mpandas\\_libs\\hashtable_class_helper.pxi\u001b[0m in \u001b[0;36mpandas._libs.hashtable.PyObjectHashTable.get_item\u001b[1;34m()\u001b[0m\n",
      "\u001b[1;31mKeyError\u001b[0m: 'num_words'",
      "\nThe above exception was the direct cause of the following exception:\n",
      "\u001b[1;31mKeyError\u001b[0m                                  Traceback (most recent call last)",
      "\u001b[1;32m<ipython-input-8-b9beb46c4d2b>\u001b[0m in \u001b[0;36m<module>\u001b[1;34m\u001b[0m\n\u001b[0;32m      9\u001b[0m \u001b[1;33m\u001b[0m\u001b[0m\n\u001b[0;32m     10\u001b[0m \u001b[0mtotal\u001b[0m\u001b[1;33m[\u001b[0m\u001b[1;34m\"fp_pronouns_count\"\u001b[0m\u001b[1;33m]\u001b[0m \u001b[1;33m=\u001b[0m \u001b[0mtotal\u001b[0m\u001b[1;33m[\u001b[0m\u001b[1;34m\"tokens\"\u001b[0m\u001b[1;33m]\u001b[0m\u001b[1;33m.\u001b[0m\u001b[0mapply\u001b[0m\u001b[1;33m(\u001b[0m\u001b[1;32mlambda\u001b[0m \u001b[0mx\u001b[0m\u001b[1;33m:\u001b[0m \u001b[0mpronoun_count\u001b[0m\u001b[1;33m(\u001b[0m\u001b[0mx\u001b[0m\u001b[1;33m,\u001b[0m \u001b[1;34m\"fp\"\u001b[0m\u001b[1;33m)\u001b[0m\u001b[1;33m)\u001b[0m\u001b[1;33m\u001b[0m\u001b[0m\n\u001b[1;32m---> 11\u001b[1;33m \u001b[0mtotal\u001b[0m\u001b[1;33m[\u001b[0m\u001b[1;34m\"fp_pronouns_ratio\"\u001b[0m\u001b[1;33m]\u001b[0m \u001b[1;33m=\u001b[0m \u001b[0mtotal\u001b[0m\u001b[1;33m[\u001b[0m\u001b[1;34m\"fp_pronouns_count\"\u001b[0m\u001b[1;33m]\u001b[0m \u001b[1;33m/\u001b[0m \u001b[0mtotal\u001b[0m\u001b[1;33m[\u001b[0m\u001b[1;34m\"num_words\"\u001b[0m\u001b[1;33m]\u001b[0m\u001b[1;33m\u001b[0m\u001b[0m\n\u001b[0m",
      "\u001b[1;32m~\\Anaconda3\\lib\\site-packages\\pandas\\core\\frame.py\u001b[0m in \u001b[0;36m__getitem__\u001b[1;34m(self, key)\u001b[0m\n\u001b[0;32m   3022\u001b[0m             \u001b[1;32mif\u001b[0m \u001b[0mself\u001b[0m\u001b[1;33m.\u001b[0m\u001b[0mcolumns\u001b[0m\u001b[1;33m.\u001b[0m\u001b[0mnlevels\u001b[0m \u001b[1;33m>\u001b[0m \u001b[1;36m1\u001b[0m\u001b[1;33m:\u001b[0m\u001b[1;33m\u001b[0m\u001b[0m\n\u001b[0;32m   3023\u001b[0m                 \u001b[1;32mreturn\u001b[0m \u001b[0mself\u001b[0m\u001b[1;33m.\u001b[0m\u001b[0m_getitem_multilevel\u001b[0m\u001b[1;33m(\u001b[0m\u001b[0mkey\u001b[0m\u001b[1;33m)\u001b[0m\u001b[1;33m\u001b[0m\u001b[0m\n\u001b[1;32m-> 3024\u001b[1;33m             \u001b[0mindexer\u001b[0m \u001b[1;33m=\u001b[0m \u001b[0mself\u001b[0m\u001b[1;33m.\u001b[0m\u001b[0mcolumns\u001b[0m\u001b[1;33m.\u001b[0m\u001b[0mget_loc\u001b[0m\u001b[1;33m(\u001b[0m\u001b[0mkey\u001b[0m\u001b[1;33m)\u001b[0m\u001b[1;33m\u001b[0m\u001b[0m\n\u001b[0m\u001b[0;32m   3025\u001b[0m             \u001b[1;32mif\u001b[0m \u001b[0mis_integer\u001b[0m\u001b[1;33m(\u001b[0m\u001b[0mindexer\u001b[0m\u001b[1;33m)\u001b[0m\u001b[1;33m:\u001b[0m\u001b[1;33m\u001b[0m\u001b[0m\n\u001b[0;32m   3026\u001b[0m                 \u001b[0mindexer\u001b[0m \u001b[1;33m=\u001b[0m \u001b[1;33m[\u001b[0m\u001b[0mindexer\u001b[0m\u001b[1;33m]\u001b[0m\u001b[1;33m\u001b[0m\u001b[0m\n",
      "\u001b[1;32m~\\Anaconda3\\lib\\site-packages\\pandas\\core\\indexes\\base.py\u001b[0m in \u001b[0;36mget_loc\u001b[1;34m(self, key, method, tolerance)\u001b[0m\n\u001b[0;32m   3080\u001b[0m                 \u001b[1;32mreturn\u001b[0m \u001b[0mself\u001b[0m\u001b[1;33m.\u001b[0m\u001b[0m_engine\u001b[0m\u001b[1;33m.\u001b[0m\u001b[0mget_loc\u001b[0m\u001b[1;33m(\u001b[0m\u001b[0mcasted_key\u001b[0m\u001b[1;33m)\u001b[0m\u001b[1;33m\u001b[0m\u001b[0m\n\u001b[0;32m   3081\u001b[0m             \u001b[1;32mexcept\u001b[0m \u001b[0mKeyError\u001b[0m \u001b[1;32mas\u001b[0m \u001b[0merr\u001b[0m\u001b[1;33m:\u001b[0m\u001b[1;33m\u001b[0m\u001b[0m\n\u001b[1;32m-> 3082\u001b[1;33m                 \u001b[1;32mraise\u001b[0m \u001b[0mKeyError\u001b[0m\u001b[1;33m(\u001b[0m\u001b[0mkey\u001b[0m\u001b[1;33m)\u001b[0m \u001b[1;32mfrom\u001b[0m \u001b[0merr\u001b[0m\u001b[1;33m\u001b[0m\u001b[0m\n\u001b[0m\u001b[0;32m   3083\u001b[0m \u001b[1;33m\u001b[0m\u001b[0m\n\u001b[0;32m   3084\u001b[0m         \u001b[1;32mif\u001b[0m \u001b[0mtolerance\u001b[0m \u001b[1;32mis\u001b[0m \u001b[1;32mnot\u001b[0m \u001b[1;32mNone\u001b[0m\u001b[1;33m:\u001b[0m\u001b[1;33m\u001b[0m\u001b[0m\n",
      "\u001b[1;31mKeyError\u001b[0m: 'num_words'"
     ]
    }
   ],
   "source": [
    "def pronoun_count(x, type):\n",
    "    if type == \"fp\":\n",
    "        lst = [i for i in x if i in [\"I\", \"my\", \"mine\", \"we\", \"our\"]]\n",
    "    elif type == \"tp\": \n",
    "        lst = [i for i in x if i in [\"they\", \"it\", \"there\"]]\n",
    "    return len(lst)\n",
    "\n",
    "total[\"tokens\"] = total['review'].apply(word_tokenize)\n",
    "\n",
    "total[\"fp_pronouns_count\"] = total[\"tokens\"].apply(lambda x: pronoun_count(x, \"fp\"))\n",
    "total[\"fp_pronouns_ratio\"] = total[\"fp_pronouns_count\"] / total[\"num_words\"]"
   ]
  },
  {
   "cell_type": "code",
   "execution_count": 88,
   "id": "d42105b0",
   "metadata": {},
   "outputs": [
    {
     "data": {
      "text/plain": [
       "0.04014729390528521"
      ]
     },
     "execution_count": 88,
     "metadata": {},
     "output_type": "execute_result"
    },
    {
     "data": {
      "text/plain": [
       "0.03769082036560625"
      ]
     },
     "execution_count": 88,
     "metadata": {},
     "output_type": "execute_result"
    }
   ],
   "source": [
    "total[total[\"label\"] == 1][\"fp_pronouns_ratio\"].mean()\n",
    "total[total[\"label\"] == -1][\"fp_pronouns_ratio\"].mean()\n"
   ]
  },
  {
   "cell_type": "code",
   "execution_count": 117,
   "id": "ab26bf2b",
   "metadata": {},
   "outputs": [
    {
     "data": {
      "text/plain": [
       "MannwhitneyuResult(statistic=5504309126.5, pvalue=3.2668290897584674e-117)"
      ]
     },
     "execution_count": 117,
     "metadata": {},
     "output_type": "execute_result"
    }
   ],
   "source": [
    "from scipy.stats import mannwhitneyu\n",
    "\n",
    "mannwhitneyu(total[total[\"label\"]==1][\"fp_pronouns_ratio\"].values, total[total[\"label\"]==-1][\"fp_pronouns_ratio\"].values)"
   ]
  },
  {
   "cell_type": "markdown",
   "id": "6616d57d",
   "metadata": {},
   "source": [
    "Mean values are different. Maybe, fake reviews have less first person pronoun because they don't have actual experiences."
   ]
  },
  {
   "cell_type": "markdown",
   "id": "5883e63d",
   "metadata": {},
   "source": [
    "## Sentiment score of fake and real accounts"
   ]
  },
  {
   "cell_type": "code",
   "execution_count": 12,
   "id": "aae47ebd",
   "metadata": {},
   "outputs": [
    {
     "data": {
      "text/html": [
       "<div>\n",
       "<style scoped>\n",
       "    .dataframe tbody tr th:only-of-type {\n",
       "        vertical-align: middle;\n",
       "    }\n",
       "\n",
       "    .dataframe tbody tr th {\n",
       "        vertical-align: top;\n",
       "    }\n",
       "\n",
       "    .dataframe thead th {\n",
       "        text-align: right;\n",
       "    }\n",
       "</style>\n",
       "<table border=\"1\" class=\"dataframe\">\n",
       "  <thead>\n",
       "    <tr style=\"text-align: right;\">\n",
       "      <th></th>\n",
       "      <th>user_id</th>\n",
       "      <th>product_id</th>\n",
       "      <th>rating</th>\n",
       "      <th>label</th>\n",
       "      <th>date</th>\n",
       "      <th>review</th>\n",
       "      <th>neg</th>\n",
       "      <th>neu</th>\n",
       "      <th>pos</th>\n",
       "      <th>compound</th>\n",
       "    </tr>\n",
       "  </thead>\n",
       "  <tbody>\n",
       "    <tr>\n",
       "      <th>0</th>\n",
       "      <td>923</td>\n",
       "      <td>0</td>\n",
       "      <td>3.0</td>\n",
       "      <td>-1</td>\n",
       "      <td>2014-12-08</td>\n",
       "      <td>The food at snack is a selection of popular Gr...</td>\n",
       "      <td>0.038</td>\n",
       "      <td>0.834</td>\n",
       "      <td>0.128</td>\n",
       "      <td>0.6170</td>\n",
       "    </tr>\n",
       "    <tr>\n",
       "      <th>1</th>\n",
       "      <td>924</td>\n",
       "      <td>0</td>\n",
       "      <td>3.0</td>\n",
       "      <td>-1</td>\n",
       "      <td>2013-05-16</td>\n",
       "      <td>This little place in Soho is wonderful. I had ...</td>\n",
       "      <td>0.086</td>\n",
       "      <td>0.784</td>\n",
       "      <td>0.131</td>\n",
       "      <td>0.5783</td>\n",
       "    </tr>\n",
       "    <tr>\n",
       "      <th>2</th>\n",
       "      <td>925</td>\n",
       "      <td>0</td>\n",
       "      <td>4.0</td>\n",
       "      <td>-1</td>\n",
       "      <td>2013-07-01</td>\n",
       "      <td>ordered lunch for 15 from Snack last Friday.  ...</td>\n",
       "      <td>0.000</td>\n",
       "      <td>0.757</td>\n",
       "      <td>0.243</td>\n",
       "      <td>0.8515</td>\n",
       "    </tr>\n",
       "    <tr>\n",
       "      <th>3</th>\n",
       "      <td>926</td>\n",
       "      <td>0</td>\n",
       "      <td>4.0</td>\n",
       "      <td>-1</td>\n",
       "      <td>2011-07-28</td>\n",
       "      <td>This is a beautiful quaint little restaurant o...</td>\n",
       "      <td>0.020</td>\n",
       "      <td>0.731</td>\n",
       "      <td>0.249</td>\n",
       "      <td>0.9785</td>\n",
       "    </tr>\n",
       "    <tr>\n",
       "      <th>4</th>\n",
       "      <td>927</td>\n",
       "      <td>0</td>\n",
       "      <td>4.0</td>\n",
       "      <td>-1</td>\n",
       "      <td>2010-11-01</td>\n",
       "      <td>Snack is great place for a  casual sit down lu...</td>\n",
       "      <td>0.000</td>\n",
       "      <td>0.780</td>\n",
       "      <td>0.220</td>\n",
       "      <td>0.9756</td>\n",
       "    </tr>\n",
       "  </tbody>\n",
       "</table>\n",
       "</div>"
      ],
      "text/plain": [
       "   user_id  product_id  rating  label       date                                             review    neg    neu    pos  \\\n",
       "0      923           0     3.0     -1 2014-12-08  The food at snack is a selection of popular Gr...  0.038  0.834  0.128   \n",
       "1      924           0     3.0     -1 2013-05-16  This little place in Soho is wonderful. I had ...  0.086  0.784  0.131   \n",
       "2      925           0     4.0     -1 2013-07-01  ordered lunch for 15 from Snack last Friday.  ...  0.000  0.757  0.243   \n",
       "3      926           0     4.0     -1 2011-07-28  This is a beautiful quaint little restaurant o...  0.020  0.731  0.249   \n",
       "4      927           0     4.0     -1 2010-11-01  Snack is great place for a  casual sit down lu...  0.000  0.780  0.220   \n",
       "\n",
       "   compound  \n",
       "0    0.6170  \n",
       "1    0.5783  \n",
       "2    0.8515  \n",
       "3    0.9785  \n",
       "4    0.9756  "
      ]
     },
     "execution_count": 12,
     "metadata": {},
     "output_type": "execute_result"
    }
   ],
   "source": [
    "from vaderSentiment.vaderSentiment import SentimentIntensityAnalyzer\n",
    "\n",
    "test = total[:10000].drop(\"review\", axis=1).copy()\n",
    "\n",
    "test['sentiment_score'] = test['review'].apply(SentimentIntensityAnalyzer().polarity_scores)\n",
    "test = pd.concat([test.drop(['sentiment_score'], axis=1), test['sentiment_score'].apply(pd.Series)], axis=1)\n",
    "\n",
    "test.head(1)"
   ]
  },
  {
   "cell_type": "code",
   "execution_count": 59,
   "id": "1cf7e0e9",
   "metadata": {},
   "outputs": [],
   "source": [
    "total[[\"neg\", \"neu\", \"pos\", \"compound\"]] = pickle.load(open(\"./dataset/sentiment_score.pkl\", 'rb'))"
   ]
  },
  {
   "cell_type": "code",
   "execution_count": 103,
   "id": "5d636e34",
   "metadata": {},
   "outputs": [
    {
     "data": {
      "text/plain": [
       "<AxesSubplot:xlabel='pos', ylabel='Density'>"
      ]
     },
     "execution_count": 103,
     "metadata": {},
     "output_type": "execute_result"
    },
    {
     "data": {
      "text/plain": [
       "<AxesSubplot:xlabel='pos', ylabel='Density'>"
      ]
     },
     "execution_count": 103,
     "metadata": {},
     "output_type": "execute_result"
    },
    {
     "data": {
      "text/plain": [
       "Text(0, 0.5, 'Density')"
      ]
     },
     "execution_count": 103,
     "metadata": {},
     "output_type": "execute_result"
    },
    {
     "data": {
      "text/plain": [
       "Text(0.5, 0, 'pos')"
      ]
     },
     "execution_count": 103,
     "metadata": {},
     "output_type": "execute_result"
    },
    {
     "data": {
      "text/plain": [
       "<matplotlib.legend.Legend at 0x23e73af8860>"
      ]
     },
     "execution_count": 103,
     "metadata": {},
     "output_type": "execute_result"
    },
    {
     "data": {
      "text/plain": [
       "<AxesSubplot:xlabel='neg', ylabel='Density'>"
      ]
     },
     "execution_count": 103,
     "metadata": {},
     "output_type": "execute_result"
    },
    {
     "data": {
      "text/plain": [
       "<AxesSubplot:xlabel='neg', ylabel='Density'>"
      ]
     },
     "execution_count": 103,
     "metadata": {},
     "output_type": "execute_result"
    },
    {
     "data": {
      "text/plain": [
       "Text(0, 0.5, 'Density')"
      ]
     },
     "execution_count": 103,
     "metadata": {},
     "output_type": "execute_result"
    },
    {
     "data": {
      "text/plain": [
       "Text(0.5, 0, 'neg')"
      ]
     },
     "execution_count": 103,
     "metadata": {},
     "output_type": "execute_result"
    },
    {
     "data": {
      "text/plain": [
       "<matplotlib.legend.Legend at 0x23e71d394e0>"
      ]
     },
     "execution_count": 103,
     "metadata": {},
     "output_type": "execute_result"
    },
    {
     "data": {
      "text/plain": [
       "<AxesSubplot:xlabel='neu', ylabel='Density'>"
      ]
     },
     "execution_count": 103,
     "metadata": {},
     "output_type": "execute_result"
    },
    {
     "data": {
      "text/plain": [
       "<AxesSubplot:xlabel='neu', ylabel='Density'>"
      ]
     },
     "execution_count": 103,
     "metadata": {},
     "output_type": "execute_result"
    },
    {
     "data": {
      "text/plain": [
       "Text(0, 0.5, 'Density')"
      ]
     },
     "execution_count": 103,
     "metadata": {},
     "output_type": "execute_result"
    },
    {
     "data": {
      "text/plain": [
       "Text(0.5, 0, 'neu')"
      ]
     },
     "execution_count": 103,
     "metadata": {},
     "output_type": "execute_result"
    },
    {
     "data": {
      "text/plain": [
       "<matplotlib.legend.Legend at 0x23e7272bfd0>"
      ]
     },
     "execution_count": 103,
     "metadata": {},
     "output_type": "execute_result"
    },
    {
     "data": {
      "text/plain": [
       "<AxesSubplot:xlabel='compound', ylabel='Density'>"
      ]
     },
     "execution_count": 103,
     "metadata": {},
     "output_type": "execute_result"
    },
    {
     "data": {
      "text/plain": [
       "<AxesSubplot:xlabel='compound', ylabel='Density'>"
      ]
     },
     "execution_count": 103,
     "metadata": {},
     "output_type": "execute_result"
    },
    {
     "data": {
      "text/plain": [
       "Text(0, 0.5, 'Density')"
      ]
     },
     "execution_count": 103,
     "metadata": {},
     "output_type": "execute_result"
    },
    {
     "data": {
      "text/plain": [
       "Text(0.5, 0, 'compound')"
      ]
     },
     "execution_count": 103,
     "metadata": {},
     "output_type": "execute_result"
    },
    {
     "data": {
      "text/plain": [
       "<matplotlib.legend.Legend at 0x23e70cf9e80>"
      ]
     },
     "execution_count": 103,
     "metadata": {},
     "output_type": "execute_result"
    },
    {
     "data": {
      "image/png": "[encoded data removed]",
      "text/plain": [
       "<Figure size 1080x720 with 4 Axes>"
      ]
     },
     "metadata": {},
     "output_type": "display_data"
    }
   ],
   "source": [
    "fig, axes = plt.subplots(2, 2, figsize=(15,10))\n",
    "# , ax2, ax3, ax4\n",
    "sns.set_theme()\n",
    "\n",
    "dict = {\"pos\":axes[0,0], \"neg\":axes[0,1], \"neu\":axes[1,0], \"compound\":axes[1,1]}\n",
    "\n",
    "for feature, ax in dict.items():\n",
    "    sns.distplot(total[total[\"label\"]==-1][feature], label=\"fake\", color='#4c72b0', ax=ax)\n",
    "    sns.distplot(total[total[\"label\"]==1][feature], label=\"true\", color='#c44e52', ax=ax)\n",
    "    \n",
    "    ax.set_ylabel(\"Density\", fontsize=20)\n",
    "    ax.set_xlabel(feature, fontsize=20)\n",
    "    ax.tick_params(axis='both', which='major', labelsize=18)\n",
    "    ax.legend(fontsize=18)\n"
   ]
  },
  {
   "cell_type": "code",
   "execution_count": 64,
   "id": "7e92fbf4",
   "metadata": {},
   "outputs": [
    {
     "data": {
      "text/plain": [
       "KstestResult(statistic=0.057309408589352795, pvalue=7.258220820686923e-95)"
      ]
     },
     "execution_count": 64,
     "metadata": {},
     "output_type": "execute_result"
    },
    {
     "data": {
      "text/plain": [
       "KstestResult(statistic=0.07377990582539218, pvalue=5.101179920915232e-157)"
      ]
     },
     "execution_count": 64,
     "metadata": {},
     "output_type": "execute_result"
    },
    {
     "data": {
      "text/plain": [
       "KstestResult(statistic=0.11593993194397878, pvalue=0.0)"
      ]
     },
     "execution_count": 64,
     "metadata": {},
     "output_type": "execute_result"
    },
    {
     "data": {
      "text/plain": [
       "KstestResult(statistic=0.062108626191409444, pvalue=2.3367626553286353e-111)"
      ]
     },
     "execution_count": 64,
     "metadata": {},
     "output_type": "execute_result"
    }
   ],
   "source": [
    "from scipy.stats import ks_2samp\n",
    "\n",
    "ks_2samp(total[total[\"label\"]==-1][\"pos\"].values, total[total[\"label\"]==1][\"pos\"].values, alternative='two-sided')\n",
    "ks_2samp(total[total[\"label\"]==-1][\"neu\"].values, total[total[\"label\"]==1][\"neu\"].values, alternative='two-sided')\n",
    "ks_2samp(total[total[\"label\"]==-1][\"compound\"].values, total[total[\"label\"]==1][\"compound\"].values, alternative='two-sided')\n",
    "ks_2samp(total[total[\"label\"]==-1][\"neg\"].values, total[total[\"label\"]==1][\"neg\"].values, alternative='two-sided')"
   ]
  },
  {
   "cell_type": "markdown",
   "id": "0e022ebc",
   "metadata": {},
   "source": [
    "We notice that they are different from ks-test. It looks that those distributions are same, but given that we had more than thirty thousand of data, it wasn't noise."
   ]
  },
  {
   "cell_type": "markdown",
   "id": "01997a6c",
   "metadata": {},
   "source": [
    "## Ratio of unique words in review"
   ]
  },
  {
   "cell_type": "markdown",
   "id": "fdc750d7",
   "metadata": {},
   "source": [
    "Domain knowledge:\n",
    "Fake users use more generic words because they didn't experience it reallly or because they have templates to write reviews?"
   ]
  },
  {
   "cell_type": "code",
   "execution_count": 24,
   "id": "3637b556",
   "metadata": {},
   "outputs": [
    {
     "data": {
      "text/html": [
       "<div>\n",
       "<style scoped>\n",
       "    .dataframe tbody tr th:only-of-type {\n",
       "        vertical-align: middle;\n",
       "    }\n",
       "\n",
       "    .dataframe tbody tr th {\n",
       "        vertical-align: top;\n",
       "    }\n",
       "\n",
       "    .dataframe thead th {\n",
       "        text-align: right;\n",
       "    }\n",
       "</style>\n",
       "<table border=\"1\" class=\"dataframe\">\n",
       "  <thead>\n",
       "    <tr style=\"text-align: right;\">\n",
       "      <th></th>\n",
       "      <th>user_id</th>\n",
       "      <th>product_id</th>\n",
       "      <th>rating</th>\n",
       "      <th>label</th>\n",
       "      <th>date</th>\n",
       "      <th>review</th>\n",
       "      <th>volatility_3</th>\n",
       "      <th>volatility_7</th>\n",
       "      <th>volatility_14</th>\n",
       "      <th>MA_gap_1month</th>\n",
       "      <th>MA_gap_2month</th>\n",
       "      <th>tokens</th>\n",
       "      <th>fp_pronouns_count</th>\n",
       "      <th>num_words</th>\n",
       "      <th>unique_words_ratio</th>\n",
       "    </tr>\n",
       "  </thead>\n",
       "  <tbody>\n",
       "    <tr>\n",
       "      <th>0</th>\n",
       "      <td>923</td>\n",
       "      <td>0</td>\n",
       "      <td>3.0</td>\n",
       "      <td>-1</td>\n",
       "      <td>2014-12-08</td>\n",
       "      <td>The food at snack is a selection of popular Gr...</td>\n",
       "      <td>0.57735</td>\n",
       "      <td>0.377964</td>\n",
       "      <td>0.267261</td>\n",
       "      <td>30.0</td>\n",
       "      <td>30.0</td>\n",
       "      <td>[The, food, at, snack, is, a, selection, of, p...</td>\n",
       "      <td>0</td>\n",
       "      <td>40</td>\n",
       "      <td>0.875000</td>\n",
       "    </tr>\n",
       "    <tr>\n",
       "      <th>1</th>\n",
       "      <td>924</td>\n",
       "      <td>0</td>\n",
       "      <td>3.0</td>\n",
       "      <td>-1</td>\n",
       "      <td>2013-05-16</td>\n",
       "      <td>This little place in Soho is wonderful. I had ...</td>\n",
       "      <td>0.57735</td>\n",
       "      <td>0.377964</td>\n",
       "      <td>0.267261</td>\n",
       "      <td>15.0</td>\n",
       "      <td>15.0</td>\n",
       "      <td>[This, little, place, in, Soho, is, wonderful,...</td>\n",
       "      <td>1</td>\n",
       "      <td>52</td>\n",
       "      <td>0.826923</td>\n",
       "    </tr>\n",
       "    <tr>\n",
       "      <th>2</th>\n",
       "      <td>925</td>\n",
       "      <td>0</td>\n",
       "      <td>4.0</td>\n",
       "      <td>-1</td>\n",
       "      <td>2013-07-01</td>\n",
       "      <td>ordered lunch for 15 from Snack last Friday.  ...</td>\n",
       "      <td>0.57735</td>\n",
       "      <td>0.377964</td>\n",
       "      <td>0.474631</td>\n",
       "      <td>15.0</td>\n",
       "      <td>15.0</td>\n",
       "      <td>[ordered, lunch, for, 15, from, Snack, last, F...</td>\n",
       "      <td>1</td>\n",
       "      <td>32</td>\n",
       "      <td>0.937500</td>\n",
       "    </tr>\n",
       "  </tbody>\n",
       "</table>\n",
       "</div>"
      ],
      "text/plain": [
       "   user_id  product_id  rating  label       date                                             review  volatility_3  volatility_7  \\\n",
       "0      923           0     3.0     -1 2014-12-08  The food at snack is a selection of popular Gr...       0.57735      0.377964   \n",
       "1      924           0     3.0     -1 2013-05-16  This little place in Soho is wonderful. I had ...       0.57735      0.377964   \n",
       "2      925           0     4.0     -1 2013-07-01  ordered lunch for 15 from Snack last Friday.  ...       0.57735      0.377964   \n",
       "\n",
       "   volatility_14  MA_gap_1month  MA_gap_2month                                             tokens  fp_pronouns_count  num_words  \\\n",
       "0       0.267261           30.0           30.0  [The, food, at, snack, is, a, selection, of, p...                  0         40   \n",
       "1       0.267261           15.0           15.0  [This, little, place, in, Soho, is, wonderful,...                  1         52   \n",
       "2       0.474631           15.0           15.0  [ordered, lunch, for, 15, from, Snack, last, F...                  1         32   \n",
       "\n",
       "   unique_words_ratio  \n",
       "0            0.875000  \n",
       "1            0.826923  \n",
       "2            0.937500  "
      ]
     },
     "execution_count": 24,
     "metadata": {},
     "output_type": "execute_result"
    }
   ],
   "source": [
    "total[\"num_unique_words\"] = total['review'].apply(lambda x: len(set(str(x).split())))\n",
    "total[\"unique_words_ratio\"] = total[\"num_unique_words\"] / total[\"num_words\"]\n",
    "\n",
    "total.drop([\"num_unique_words\"], axis=1, inplace=True)\n",
    "\n",
    "total.head(3)"
   ]
  },
  {
   "cell_type": "code",
   "execution_count": 27,
   "id": "e1221379",
   "metadata": {},
   "outputs": [
    {
     "data": {
      "text/plain": [
       "<AxesSubplot:xlabel='unique_words_ratio', ylabel='Density'>"
      ]
     },
     "execution_count": 27,
     "metadata": {},
     "output_type": "execute_result"
    },
    {
     "data": {
      "text/plain": [
       "<AxesSubplot:xlabel='unique_words_ratio', ylabel='Density'>"
      ]
     },
     "execution_count": 27,
     "metadata": {},
     "output_type": "execute_result"
    },
    {
     "data": {
      "text/plain": [
       "Text(0.5, 0, 'label')"
      ]
     },
     "execution_count": 27,
     "metadata": {},
     "output_type": "execute_result"
    },
    {
     "data": {
      "text/plain": [
       "Text(0, 0.5, 'Percentage')"
      ]
     },
     "execution_count": 27,
     "metadata": {},
     "output_type": "execute_result"
    },
    {
     "data": {
      "text/plain": [
       "Text(0.5, 1.0, 'Distribution of unique ratio in real and fake reviews')"
      ]
     },
     "execution_count": 27,
     "metadata": {},
     "output_type": "execute_result"
    },
    {
     "data": {
      "text/plain": [
       "<matplotlib.legend.Legend at 0x25bdba7a550>"
      ]
     },
     "execution_count": 27,
     "metadata": {},
     "output_type": "execute_result"
    },
    {
     "data": {
      "image/png": "[encoded data removed]",
      "text/plain": [
       "<Figure size 1080x576 with 1 Axes>"
      ]
     },
     "metadata": {},
     "output_type": "display_data"
    }
   ],
   "source": [
    "fig, ax = plt.subplots(1, 1, figsize=(15,8))\n",
    "\n",
    "sns.set_theme()\n",
    "\n",
    "total_real = total[total[\"label\"]==1]\n",
    "total_fake = total[total[\"label\"]==-1]\n",
    "\n",
    "sns.distplot(total_real[\"unique_words_ratio\"], label=\"real review\", color='#4c72b0')\n",
    "sns.distplot(total_fake[\"unique_words_ratio\"], label=\"fake review\", color='#c44e52')\n",
    "\n",
    "plt.xlabel(\"label\", fontsize=17)\n",
    "plt.ylabel(\"Percentage\", fontsize=17)\n",
    "\n",
    "plt.title(\"Distribution of unique words ratio in real and fake reviews\", fontsize=22)\n",
    "\n",
    "plt.tick_params(axis='both', which='major', labelsize=18)\n",
    "\n",
    "plt.legend(fontsize=20)\n",
    "\n",
    "# sns.displot(data=total[total[\"num_words\"] < 1000], x=\"num_words\", hue=\"label\", kind=\"kde\", legend=True, ax=ax)\n",
    "\n",
    "# sns.displot(x=\"num_words\", data=total[total[\"label\"]==1])\n",
    "# sns.displot(x=\"num_words\", data=total[total[\"label\"]==-1])\n"
   ]
  },
  {
   "cell_type": "code",
   "execution_count": 28,
   "id": "7ae29d4a",
   "metadata": {},
   "outputs": [
    {
     "data": {
      "text/plain": [
       "KstestResult(statistic=0.15566381098675547, pvalue=0.0)"
      ]
     },
     "execution_count": 28,
     "metadata": {},
     "output_type": "execute_result"
    }
   ],
   "source": [
    "from scipy.stats import ks_2samp\n",
    "\n",
    "ks_2samp(total_real[\"unique_words_ratio\"].values, total_fake[\"unique_words_ratio\"].values, alternative='two-sided')"
   ]
  },
  {
   "cell_type": "markdown",
   "id": "80f5ea24",
   "metadata": {},
   "source": [
    "Two distributions are different. This may be because fake reviews have less words so that they tend to have more unique words ratio. This doesn't really confirm the idea that fake users use generic more generic words or template."
   ]
  },
  {
   "cell_type": "markdown",
   "id": "0ce32463",
   "metadata": {},
   "source": [
    "## Top word ranking by fake and real reviews"
   ]
  },
  {
   "cell_type": "code",
   "execution_count": 49,
   "id": "74ebd3e1",
   "metadata": {
    "scrolled": true
   },
   "outputs": [
    {
     "data": {
      "text/html": [
       "<th style=\"text-align:center\"><td style=\"vertical-align:top\"><h4>fake review</h4><table style=\"display:inline\" border=\"1\" class=\"dataframe\">\n",
       "  <thead>\n",
       "    <tr style=\"text-align: right;\">\n",
       "      <th></th>\n",
       "      <th>count</th>\n",
       "    </tr>\n",
       "  </thead>\n",
       "  <tbody>\n",
       "    <tr>\n",
       "      <th>food</th>\n",
       "      <td>74</td>\n",
       "    </tr>\n",
       "    <tr>\n",
       "      <th>great</th>\n",
       "      <td>51</td>\n",
       "    </tr>\n",
       "    <tr>\n",
       "      <th>place</th>\n",
       "      <td>48</td>\n",
       "    </tr>\n",
       "    <tr>\n",
       "      <th>pizza</th>\n",
       "      <td>47</td>\n",
       "    </tr>\n",
       "    <tr>\n",
       "      <th>good</th>\n",
       "      <td>44</td>\n",
       "    </tr>\n",
       "    <tr>\n",
       "      <th>service</th>\n",
       "      <td>34</td>\n",
       "    </tr>\n",
       "    <tr>\n",
       "      <th>restaurant</th>\n",
       "      <td>31</td>\n",
       "    </tr>\n",
       "    <tr>\n",
       "      <th>delicious</th>\n",
       "      <td>29</td>\n",
       "    </tr>\n",
       "    <tr>\n",
       "      <th>die</th>\n",
       "      <td>28</td>\n",
       "    </tr>\n",
       "    <tr>\n",
       "      <th>french</th>\n",
       "      <td>26</td>\n",
       "    </tr>\n",
       "    <tr>\n",
       "      <th>would</th>\n",
       "      <td>25</td>\n",
       "    </tr>\n",
       "    <tr>\n",
       "      <th>amazing</th>\n",
       "      <td>23</td>\n",
       "    </tr>\n",
       "    <tr>\n",
       "      <th>back</th>\n",
       "      <td>22</td>\n",
       "    </tr>\n",
       "    <tr>\n",
       "      <th>like</th>\n",
       "      <td>22</td>\n",
       "    </tr>\n",
       "    <tr>\n",
       "      <th>nice</th>\n",
       "      <td>21</td>\n",
       "    </tr>\n",
       "    <tr>\n",
       "      <th>das</th>\n",
       "      <td>19</td>\n",
       "    </tr>\n",
       "    <tr>\n",
       "      <th>staff</th>\n",
       "      <td>18</td>\n",
       "    </tr>\n",
       "    <tr>\n",
       "      <th>small</th>\n",
       "      <td>18</td>\n",
       "    </tr>\n",
       "    <tr>\n",
       "      <th>time</th>\n",
       "      <td>17</td>\n",
       "    </tr>\n",
       "    <tr>\n",
       "      <th>one</th>\n",
       "      <td>17</td>\n",
       "    </tr>\n",
       "    <tr>\n",
       "      <th>well</th>\n",
       "      <td>17</td>\n",
       "    </tr>\n",
       "    <tr>\n",
       "      <th>also</th>\n",
       "      <td>17</td>\n",
       "    </tr>\n",
       "    <tr>\n",
       "      <th>little</th>\n",
       "      <td>17</td>\n",
       "    </tr>\n",
       "    <tr>\n",
       "      <th>best</th>\n",
       "      <td>16</td>\n",
       "    </tr>\n",
       "    <tr>\n",
       "      <th>try</th>\n",
       "      <td>16</td>\n",
       "    </tr>\n",
       "    <tr>\n",
       "      <th>really</th>\n",
       "      <td>16</td>\n",
       "    </tr>\n",
       "    <tr>\n",
       "      <th>hat</th>\n",
       "      <td>16</td>\n",
       "    </tr>\n",
       "    <tr>\n",
       "      <th>dinner</th>\n",
       "      <td>16</td>\n",
       "    </tr>\n",
       "    <tr>\n",
       "      <th>der</th>\n",
       "      <td>16</td>\n",
       "    </tr>\n",
       "    <tr>\n",
       "      <th>dass</th>\n",
       "      <td>15</td>\n",
       "    </tr>\n",
       "  </tbody>\n",
       "</table style=\"display:inline\"></td></th><th style=\"text-align:center\"><td style=\"vertical-align:top\"><h4>real review</h4><table style=\"display:inline\" border=\"1\" class=\"dataframe\">\n",
       "  <thead>\n",
       "    <tr style=\"text-align: right;\">\n",
       "      <th></th>\n",
       "      <th>count</th>\n",
       "    </tr>\n",
       "  </thead>\n",
       "  <tbody>\n",
       "    <tr>\n",
       "      <th>good</th>\n",
       "      <td>566</td>\n",
       "    </tr>\n",
       "    <tr>\n",
       "      <th>place</th>\n",
       "      <td>562</td>\n",
       "    </tr>\n",
       "    <tr>\n",
       "      <th>food</th>\n",
       "      <td>528</td>\n",
       "    </tr>\n",
       "    <tr>\n",
       "      <th>great</th>\n",
       "      <td>427</td>\n",
       "    </tr>\n",
       "    <tr>\n",
       "      <th>pizza</th>\n",
       "      <td>375</td>\n",
       "    </tr>\n",
       "    <tr>\n",
       "      <th>french</th>\n",
       "      <td>348</td>\n",
       "    </tr>\n",
       "    <tr>\n",
       "      <th>like</th>\n",
       "      <td>291</td>\n",
       "    </tr>\n",
       "    <tr>\n",
       "      <th>service</th>\n",
       "      <td>287</td>\n",
       "    </tr>\n",
       "    <tr>\n",
       "      <th>really</th>\n",
       "      <td>282</td>\n",
       "    </tr>\n",
       "    <tr>\n",
       "      <th>brunch</th>\n",
       "      <td>249</td>\n",
       "    </tr>\n",
       "    <tr>\n",
       "      <th>delicious</th>\n",
       "      <td>248</td>\n",
       "    </tr>\n",
       "    <tr>\n",
       "      <th>back</th>\n",
       "      <td>240</td>\n",
       "    </tr>\n",
       "    <tr>\n",
       "      <th>restaurant</th>\n",
       "      <td>239</td>\n",
       "    </tr>\n",
       "    <tr>\n",
       "      <th>small</th>\n",
       "      <td>235</td>\n",
       "    </tr>\n",
       "    <tr>\n",
       "      <th>go</th>\n",
       "      <td>230</td>\n",
       "    </tr>\n",
       "    <tr>\n",
       "      <th>little</th>\n",
       "      <td>226</td>\n",
       "    </tr>\n",
       "    <tr>\n",
       "      <th>one</th>\n",
       "      <td>211</td>\n",
       "    </tr>\n",
       "    <tr>\n",
       "      <th>definitely</th>\n",
       "      <td>207</td>\n",
       "    </tr>\n",
       "    <tr>\n",
       "      <th>would</th>\n",
       "      <td>205</td>\n",
       "    </tr>\n",
       "    <tr>\n",
       "      <th>also</th>\n",
       "      <td>204</td>\n",
       "    </tr>\n",
       "    <tr>\n",
       "      <th>get</th>\n",
       "      <td>200</td>\n",
       "    </tr>\n",
       "    <tr>\n",
       "      <th>ordered</th>\n",
       "      <td>199</td>\n",
       "    </tr>\n",
       "    <tr>\n",
       "      <th>salad</th>\n",
       "      <td>196</td>\n",
       "    </tr>\n",
       "    <tr>\n",
       "      <th>time</th>\n",
       "      <td>182</td>\n",
       "    </tr>\n",
       "    <tr>\n",
       "      <th>us</th>\n",
       "      <td>170</td>\n",
       "    </tr>\n",
       "    <tr>\n",
       "      <th>dinner</th>\n",
       "      <td>165</td>\n",
       "    </tr>\n",
       "    <tr>\n",
       "      <th>nice</th>\n",
       "      <td>163</td>\n",
       "    </tr>\n",
       "    <tr>\n",
       "      <th>steak</th>\n",
       "      <td>153</td>\n",
       "    </tr>\n",
       "    <tr>\n",
       "      <th>came</th>\n",
       "      <td>153</td>\n",
       "    </tr>\n",
       "    <tr>\n",
       "      <th>sandwich</th>\n",
       "      <td>149</td>\n",
       "    </tr>\n",
       "  </tbody>\n",
       "</table style=\"display:inline\"></td></th>"
      ]
     },
     "metadata": {},
     "output_type": "display_data"
    },
    {
     "ename": "NameError",
     "evalue": "name 'gc' is not defined",
     "output_type": "error",
     "traceback": [
      "\u001b[1;31m---------------------------------------------------------------------------\u001b[0m",
      "\u001b[1;31mNameError\u001b[0m                                 Traceback (most recent call last)",
      "\u001b[1;32m<ipython-input-49-c21003ee6cbd>\u001b[0m in \u001b[0;36m<module>\u001b[1;34m\u001b[0m\n\u001b[0;32m     22\u001b[0m \u001b[0mdisplay_side_by_side\u001b[0m\u001b[1;33m(\u001b[0m\u001b[0mpd\u001b[0m\u001b[1;33m.\u001b[0m\u001b[0mDataFrame\u001b[0m\u001b[1;33m(\u001b[0m\u001b[0mfake\u001b[0m\u001b[1;33m,\u001b[0m \u001b[0mcolumns\u001b[0m\u001b[1;33m=\u001b[0m\u001b[1;33m[\u001b[0m\u001b[1;34m\"count\"\u001b[0m\u001b[1;33m]\u001b[0m\u001b[1;33m)\u001b[0m\u001b[1;33m,\u001b[0m \u001b[0mpd\u001b[0m\u001b[1;33m.\u001b[0m\u001b[0mDataFrame\u001b[0m\u001b[1;33m(\u001b[0m\u001b[0mreal\u001b[0m\u001b[1;33m,\u001b[0m \u001b[0mcolumns\u001b[0m\u001b[1;33m=\u001b[0m\u001b[1;33m[\u001b[0m\u001b[1;34m\"count\"\u001b[0m\u001b[1;33m]\u001b[0m\u001b[1;33m)\u001b[0m\u001b[1;33m,\u001b[0m \u001b[0mtitles\u001b[0m\u001b[1;33m=\u001b[0m\u001b[1;33m[\u001b[0m\u001b[1;34m'fake review'\u001b[0m\u001b[1;33m,\u001b[0m\u001b[1;34m'real review'\u001b[0m\u001b[1;33m]\u001b[0m\u001b[1;33m)\u001b[0m\u001b[1;33m\u001b[0m\u001b[0m\n\u001b[0;32m     23\u001b[0m \u001b[1;33m\u001b[0m\u001b[0m\n\u001b[1;32m---> 24\u001b[1;33m \u001b[1;32mdel\u001b[0m \u001b[0mfake\u001b[0m\u001b[1;33m,\u001b[0m \u001b[0mreal\u001b[0m\u001b[1;33m;\u001b[0m \u001b[0mgc\u001b[0m\u001b[1;33m.\u001b[0m\u001b[0mcollect\u001b[0m\u001b[1;33m(\u001b[0m\u001b[1;33m)\u001b[0m\u001b[1;33m\u001b[0m\u001b[0m\n\u001b[0m",
      "\u001b[1;31mNameError\u001b[0m: name 'gc' is not defined"
     ]
    }
   ],
   "source": [
    "from nltk.tokenize import word_tokenize\n",
    "from nltk.corpus import stopwords\n",
    "\n",
    "stop = stopwords.words('english')\n",
    "\n",
    "from nltk.tokenize import RegexpTokenizer\n",
    "\n",
    "tokenizer = RegexpTokenizer(r'\\w+')\n",
    "\n",
    "\n",
    "test = total[:1000].copy()\n",
    "\n",
    "test[\"review\"] = test[\"review\"].str.lower() \n",
    "test[\"tokens\"] = test['review'].apply(tokenizer.tokenize)\n",
    "\n",
    "test[\"tokens\"] = test[\"tokens\"].apply(lambda x: [i for i in x if i not in stop])\n",
    "\n",
    "fake = pd.DataFrame(test[test[\"label\"] == -1][\"tokens\"].tolist()).stack().value_counts().head(30)\n",
    "real = pd.DataFrame(test[test[\"label\"] == 1][\"tokens\"].tolist()).stack().value_counts().head(30)\n",
    "\n",
    "\n",
    "display_side_by_side(pd.DataFrame(fake, columns=[\"count\"]), pd.DataFrame(real, columns=[\"count\"]), titles=['fake review','real review'])\n",
    "\n",
    "del fake, real; gc.collect()"
   ]
  },
  {
   "cell_type": "markdown",
   "id": "ecc5326c",
   "metadata": {},
   "source": [
    "Looks there isn't much difference in order of words."
   ]
  }
 ],
 "metadata": {
  "kernelspec": {
   "display_name": "Python 3",
   "language": "python",
   "name": "python3"
  },
  "language_info": {
   "codemirror_mode": {
    "name": "ipython",
    "version": 3
   },
   "file_extension": ".py",
   "mimetype": "text/x-python",
   "name": "python",
   "nbconvert_exporter": "python",
   "pygments_lexer": "ipython3",
   "version": "3.7.0"
  }
 },
 "nbformat": 4,
 "nbformat_minor": 5
}
