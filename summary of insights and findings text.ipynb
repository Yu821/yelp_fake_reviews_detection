{
 "cells": [
  {
   "cell_type": "markdown",
   "id": "0db5a789",
   "metadata": {},
   "source": [
    "## Relevance of the Problem"
   ]
  },
  {
   "cell_type": "markdown",
   "id": "f3a4826c",
   "metadata": {},
   "source": [
    "Is it useful to make fake review AI?\n",
    "\n",
    "It is useful but not useful at the same time. This is because the target is not guaranteed to be correct meaning that we never know if those reviews are fake or real with certainty unless we could read human's mind or have very solid reason such as ip addresses are from companies that make fake reviews. Therefore, we need to focus on insights to reveal more about fake reviews rathar than accuracy of machine learning models because even labels (whether the review is fake or not) comes from some machine learning model results or human."
   ]
  },
  {
   "cell_type": "markdown",
   "id": "c7e9cab7",
   "metadata": {},
   "source": [
    "## Insight"
   ]
  },
  {
   "cell_type": "markdown",
   "id": "d3f477d1",
   "metadata": {},
   "source": [
    "I will write findings and possible reasons.\n",
    "\n",
    "1. Fake reviews have less number of words \n",
    "   → Writing reviews that user didn't acutally experience is hard to write.\n",
    "\n",
    "2. Fake reviews seem to have less first person pronoun.\n",
    "   → Fake users didn't actually experience it.\n",
    "\n",
    "3. Fake reviews are more likely to have either very high or low rating.\n",
    "　 → Fake users either write very good reviews for their companies and very bad reviews for rival companies.\n",
    "  \n",
    "4. Fake reviews have higher deviations from mean rating of that product.\n",
    "   → More desire to write good reviews when fake users have bad ratings. If the review is already good, they won't write good reviews because it is just extra work to do.\n",
    "   \n",
    "   Also, if the review is very low although the mean rating of that product is high, the probability of being fake reviews increases shown from SHAP values summary plot.\n",
    "   \n",
    "5. Fake reviews tend to have high volatility of count meaning that they get sunndenly many number of reviews within some days.\n",
    "   → They write reviews so it is natural that their review increases suddenly.\n",
    "   \n",
    "6. 99% of users either post fake or real reviews but not both.\n",
    "   → Fake users are created to write fake reviews most of the time.\n",
    "\n",
    "7. Fake accounts have less reviews than real accounts do.\n",
    "   → Fake accounts get deleted or fake accounts are only dedicated to write review for one product.\n",
    "   \n",
    "8. Some differences in emotions between fake and real accounts such as \"neutral\".\n",
    "   → Fake accounts are less emotional? b/c they didn't actually experience it?\n",
    "\n",
    "9. Fake reviews have more tendency to contain extreme feelings shown by \"neutral\" in the feature by SHAP values summary plot.\n",
    "   → This is because they are more likely to rate products with rating = 1 or 5.\n"
   ]
  },
  {
   "cell_type": "code",
   "execution_count": null,
   "id": "e330aaef",
   "metadata": {},
   "outputs": [],
   "source": []
  },
  {
   "cell_type": "code",
   "execution_count": null,
   "id": "95469eb3",
   "metadata": {},
   "outputs": [],
   "source": []
  },
  {
   "cell_type": "code",
   "execution_count": null,
   "id": "cad1e422",
   "metadata": {},
   "outputs": [],
   "source": []
  }
 ],
 "metadata": {
  "kernelspec": {
   "display_name": "Python 3",
   "language": "python",
   "name": "python3"
  },
  "language_info": {
   "codemirror_mode": {
    "name": "ipython",
    "version": 3
   },
   "file_extension": ".py",
   "mimetype": "text/x-python",
   "name": "python",
   "nbconvert_exporter": "python",
   "pygments_lexer": "ipython3",
   "version": "3.7.0"
  }
 },
 "nbformat": 4,
 "nbformat_minor": 5
}
